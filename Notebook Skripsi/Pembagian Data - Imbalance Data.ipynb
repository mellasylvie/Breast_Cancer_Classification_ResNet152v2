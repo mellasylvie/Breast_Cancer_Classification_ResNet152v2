{
  "nbformat": 4,
  "nbformat_minor": 0,
  "metadata": {
    "colab": {
      "provenance": []
    },
    "kernelspec": {
      "name": "python3",
      "display_name": "Python 3"
    },
    "language_info": {
      "name": "python"
    }
  },
  "cells": [
    {
      "cell_type": "code",
      "source": [
        "pip install split-folders"
      ],
      "metadata": {
        "colab": {
          "base_uri": "https://localhost:8080/"
        },
        "id": "r0Mw-0ecgq30",
        "outputId": "066aabd1-5619-4bb6-ac4c-0b115738cf07"
      },
      "execution_count": null,
      "outputs": [
        {
          "output_type": "stream",
          "name": "stdout",
          "text": [
            "Looking in indexes: https://pypi.org/simple, https://us-python.pkg.dev/colab-wheels/public/simple/\n",
            "Requirement already satisfied: split-folders in /usr/local/lib/python3.7/dist-packages (0.5.1)\n"
          ]
        }
      ]
    },
    {
      "cell_type": "code",
      "execution_count": null,
      "metadata": {
        "colab": {
          "base_uri": "https://localhost:8080/"
        },
        "id": "kUFUUGsvgXZe",
        "outputId": "50f9a13b-85a2-44ba-ce42-ca488604b103"
      },
      "outputs": [
        {
          "output_type": "stream",
          "name": "stdout",
          "text": [
            "Drive already mounted at /content/drive; to attempt to forcibly remount, call drive.mount(\"/content/drive\", force_remount=True).\n"
          ]
        }
      ],
      "source": [
        "from google.colab import drive\n",
        "drive.mount('/content/drive')"
      ]
    },
    {
      "cell_type": "code",
      "source": [
        "path_dataset = '/content/drive/MyDrive/Dataset_Skripsi/Dataset_Breast_Ultrasound'"
      ],
      "metadata": {
        "id": "j1ERZz6Yg4AH"
      },
      "execution_count": null,
      "outputs": []
    },
    {
      "cell_type": "code",
      "source": [
        "#impor package split-folders\n",
        "import splitfolders\n",
        "\n",
        "#Membagi data\n",
        "splitfolders.ratio(path_dataset, \n",
        "                   output='/content/drive/MyDrive/Dataset_Skripsi/Dataset_Breast_Ultrasound/data',\n",
        "                   seed=1337, \n",
        "                   ratio=(.9, .1), \n",
        "                   group_prefix=None, move=False)"
      ],
      "metadata": {
        "colab": {
          "base_uri": "https://localhost:8080/"
        },
        "id": "0LHlVZlvgvet",
        "outputId": "6862ff7f-b586-4d39-fc56-6c04d0716564"
      },
      "execution_count": null,
      "outputs": [
        {
          "output_type": "stream",
          "name": "stderr",
          "text": [
            "Copying files: 780 files [00:22, 34.08 files/s]\n"
          ]
        }
      ]
    },
    {
      "cell_type": "code",
      "source": [
        "import os\n",
        "\n",
        "base_dir = '/content/drive/MyDrive/Dataset_Skripsi/Dataset_Breast_Ultrasound/data'\n",
        "\n",
        "train_dir = os.path.join(base_dir, 'train')\n",
        "os.chdir(base_dir)\n",
        "os.rename(\"val\",\"test\")\n",
        "test_dir = os.path.join(base_dir, 'test')\n",
        "\n",
        "train_benign = '/content/drive/MyDrive/Dataset_Skripsi/Dataset_Breast_Ultrasound/data/train/benign'\n",
        "train_malignant = '/content/drive/MyDrive/Dataset_Skripsi/Dataset_Breast_Ultrasound/data/train/malignant'\n",
        "train_normal = '/content/drive/MyDrive/Dataset_Skripsi/Dataset_Breast_Ultrasound/data/train/normal'\n",
        "\n",
        "test_benign = '/content/drive/MyDrive/Dataset_Skripsi/Dataset_Breast_Ultrasound/data/test/benign'\n",
        "test_malignant = '/content/drive/MyDrive/Dataset_Skripsi/Dataset_Breast_Ultrasound/data/test/malignant'\n",
        "test_normal = '/content/drive/MyDrive/Dataset_Skripsi/Dataset_Breast_Ultrasound/data/test/normal'\n",
        "\n",
        "print('total citra train:', len(os.listdir(train_benign))+\n",
        "                            len(os.listdir(train_malignant))+\n",
        "                            len(os.listdir(train_normal))\n",
        "                            )\n",
        "print('total citra test:', len(os.listdir(test_benign))+\n",
        "                           len(os.listdir(test_malignant))+\n",
        "                           len(os.listdir(test_normal)))"
      ],
      "metadata": {
        "colab": {
          "base_uri": "https://localhost:8080/"
        },
        "id": "3DOcEtHRhNFa",
        "outputId": "ca8704a0-1c85-4d78-9b06-5dd2c3e1a908"
      },
      "execution_count": null,
      "outputs": [
        {
          "output_type": "stream",
          "name": "stdout",
          "text": [
            "total citra train: 701\n",
            "total citra test: 79\n"
          ]
        }
      ]
    }
  ]
}