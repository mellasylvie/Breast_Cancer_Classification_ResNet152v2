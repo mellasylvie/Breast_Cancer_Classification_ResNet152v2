{
  "nbformat": 4,
  "nbformat_minor": 0,
  "metadata": {
    "colab": {
      "provenance": []
    },
    "kernelspec": {
      "name": "python3",
      "display_name": "Python 3"
    },
    "language_info": {
      "name": "python"
    }
  },
  "cells": [
    {
      "cell_type": "code",
      "execution_count": null,
      "metadata": {
        "colab": {
          "base_uri": "https://localhost:8080/"
        },
        "id": "0yMImIDcx90o",
        "outputId": "926e8abf-03b0-40da-ee02-bd0329f8bb31"
      },
      "outputs": [
        {
          "output_type": "stream",
          "name": "stdout",
          "text": [
            "Looking in indexes: https://pypi.org/simple, https://us-python.pkg.dev/colab-wheels/public/simple/\n",
            "Collecting split-folders\n",
            "  Downloading split_folders-0.5.1-py3-none-any.whl (8.4 kB)\n",
            "Installing collected packages: split-folders\n",
            "Successfully installed split-folders-0.5.1\n"
          ]
        }
      ],
      "source": [
        "pip install split-folders"
      ]
    },
    {
      "cell_type": "code",
      "source": [
        "from google.colab import drive\n",
        "drive.mount('/content/drive')"
      ],
      "metadata": {
        "colab": {
          "base_uri": "https://localhost:8080/"
        },
        "id": "kRA5fP_ryJcw",
        "outputId": "51c25089-5210-4460-84a6-757f2431bc70"
      },
      "execution_count": null,
      "outputs": [
        {
          "output_type": "stream",
          "name": "stdout",
          "text": [
            "Mounted at /content/drive\n"
          ]
        }
      ]
    },
    {
      "cell_type": "code",
      "source": [
        "path_dataset = '/content/drive/MyDrive/Dataset_Skripsi/Balance_Breast_Ultrasound'"
      ],
      "metadata": {
        "id": "uJR2p35fyRIc"
      },
      "execution_count": null,
      "outputs": []
    },
    {
      "cell_type": "code",
      "source": [
        "import splitfolders\n",
        "\n",
        "splitfolders.ratio(path_dataset, output='/content/drive/MyDrive/Dataset_Skripsi/Balance_Breast_Ultrasound/data',\n",
        "    seed=1337, ratio=(.9, .1), group_prefix=None, move=False)"
      ],
      "metadata": {
        "colab": {
          "base_uri": "https://localhost:8080/"
        },
        "id": "M-1aOd8HyaV_",
        "outputId": "00973a93-4644-405b-995d-a4fdadb0e9c4"
      },
      "execution_count": null,
      "outputs": [
        {
          "output_type": "stream",
          "name": "stderr",
          "text": [
            "Copying files: 493 files [00:14, 35.03 files/s]\n"
          ]
        }
      ]
    },
    {
      "cell_type": "code",
      "source": [
        "import os\n",
        "\n",
        "base_dir = '/content/drive/MyDrive/Dataset_Skripsi/Balance_Breast_Ultrasound/data'\n",
        "\n",
        "train_dir = os.path.join(base_dir, 'train')\n",
        "os.chdir(base_dir)\n",
        "os.rename(\"val\",\"test\")\n",
        "test_dir = os.path.join(base_dir, 'test')\n",
        "\n",
        "train_benign = '/content/drive/MyDrive/Dataset_Skripsi/Balance_Breast_Ultrasound/data/train/benign'\n",
        "train_malignant = '/content/drive/MyDrive/Dataset_Skripsi/Balance_Breast_Ultrasound/data/train/malignant'\n",
        "train_normal = '/content/drive/MyDrive/Dataset_Skripsi/Balance_Breast_Ultrasound/data/train/normal'\n",
        "\n",
        "test_benign = '/content/drive/MyDrive/Dataset_Skripsi/Balance_Breast_Ultrasound/data/test/benign'\n",
        "test_malignant = '/content/drive/MyDrive/Dataset_Skripsi/Balance_Breast_Ultrasound/data/test/malignant'\n",
        "test_normal = '/content/drive/MyDrive/Dataset_Skripsi/Balance_Breast_Ultrasound/data/test/normal'\n",
        "\n",
        "print('total citra train:', len(os.listdir(train_benign))+\n",
        "                            len(os.listdir(train_malignant))+\n",
        "                            len(os.listdir(train_normal))\n",
        "                            )\n",
        "print('total citra test:', len(os.listdir(test_benign))+\n",
        "                           len(os.listdir(test_malignant))+\n",
        "                           len(os.listdir(test_normal)))"
      ],
      "metadata": {
        "colab": {
          "base_uri": "https://localhost:8080/"
        },
        "id": "6f_fES6PymIo",
        "outputId": "b614162a-6142-46c3-9370-8d253be2dea4"
      },
      "execution_count": null,
      "outputs": [
        {
          "output_type": "stream",
          "name": "stdout",
          "text": [
            "total citra train: 443\n",
            "total citra test: 50\n"
          ]
        }
      ]
    }
  ]
}